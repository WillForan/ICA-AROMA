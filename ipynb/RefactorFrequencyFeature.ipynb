{
 "cells": [
  {
   "cell_type": "code",
   "execution_count": 1,
   "metadata": {
    "collapsed": true
   },
   "outputs": [],
   "source": [
    "from __future__ import division, print_function\n",
    "import numpy as np\n",
    "%matplotlib inline\n",
    "import matplotlib.pyplot as plt\n",
    "import seaborn as sns\n",
    "import random\n",
    "import os\n",
    "from tempfile import mkdtemp, mkstemp\n",
    "from os.path import join\n",
    "from subprocess import call, check_output, Popen, PIPE"
   ]
  },
  {
   "cell_type": "markdown",
   "metadata": {},
   "source": [
    "Original Code"
   ]
  },
  {
   "cell_type": "code",
   "execution_count": 2,
   "metadata": {
    "collapsed": true
   },
   "outputs": [],
   "source": [
    "def feature_frequency_orig(melFTmix, TR):\n",
    "    \"\"\" This function extracts the high-frequency content feature scores. It determines the frequency, as fraction of the Nyquist frequency, at which the higher and lower frequencies explain half of the total power between 0.01Hz and Nyquist. \n",
    "\n",
    "    Parameters\n",
    "    ---------------------------------------------------------------------------------\n",
    "    melFTmix: Full path of the melodic_FTmix text file\n",
    "    TR: TR (in seconds) of the fMRI data (float)\n",
    "\n",
    "    Returns\n",
    "    ---------------------------------------------------------------------------------\n",
    "    HFC: Array of the HFC ('High-frequency content') feature scores for the components of the melodic_FTmix file\"\"\"\n",
    "\n",
    "    # Determine sample frequency\n",
    "    Fs = 1/TR\n",
    "\n",
    "    # Determine Nyquist-frequency\n",
    "    Ny = Fs/2\n",
    "\n",
    "    # Load melodic_FTmix file\n",
    "    FT=np.loadtxt(melFTmix)\n",
    "\n",
    "    # Determine which frequencies are associated with every row in the melodic_FTmix file  (assuming the rows range from 0Hz to Nyquist)\n",
    "    f = Ny*(np.array(range(1,FT.shape[0]+1)))/(FT.shape[0])\n",
    "\n",
    "    # Only include frequencies higher than 0.01Hz\n",
    "    fincl = np.squeeze(np.array(np.where( f > 0.01 )))\n",
    "    FT=FT[fincl,:]\n",
    "    f=f[fincl]\n",
    "\n",
    "    # Set frequency range to [0-1]\n",
    "    f_norm = (f-0.01)/(Ny-0.01)\n",
    "\n",
    "    # For every IC; get the cumulative sum as a fraction of the total sum\n",
    "    fcumsum_fract = np.cumsum(FT,axis=0)/ np.sum(FT,axis=0)\n",
    "\n",
    "    # Determine the index of the frequency with the fractional cumulative sum closest to 0.5\n",
    "    idx_cutoff=np.argmin(np.abs(fcumsum_fract-0.5),axis=0)\n",
    "\n",
    "    # Now get the fractions associated with those indices index, these are the final feature scores\n",
    "    HFC = f_norm[idx_cutoff]\n",
    "\n",
    "    # Return feature score\n",
    "    return HFC"
   ]
  },
  {
   "cell_type": "code",
   "execution_count": 3,
   "metadata": {
    "collapsed": false
   },
   "outputs": [],
   "source": [
    "TR = 2.0\n",
    "ftmix = os.path.abspath('../test/refout/melodic.ica/melodic_FTmix')\n",
    "hfc_orig = feature_frequency_orig(melFTmix=ftmix, TR=TR)"
   ]
  },
  {
   "cell_type": "markdown",
   "metadata": {},
   "source": [
    "Refactored version"
   ]
  },
  {
   "cell_type": "code",
   "execution_count": 4,
   "metadata": {
    "collapsed": true
   },
   "outputs": [],
   "source": [
    "def feature_frequency(ftmix, t_r):\n",
    "    \"\"\"High-frequency content feature scores.\n",
    "\n",
    "    It determines the frequency, as fraction of the Nyquist frequency, at which the higher and lower\n",
    "    frequencies explain half of the total power between 0.01Hz and Nyquist.\n",
    "\n",
    "    Parameters\n",
    "    ----------\n",
    "    ftmix: rank 2 numpy array\n",
    "        melodic ft mix array\n",
    "    t_r: float\n",
    "        Repetition time (in seconds) of the fMRI data\n",
    "\n",
    "    Returns\n",
    "    -------\n",
    "    rank 1 numpy.array\n",
    "        HFC ('High-frequency content') feature scores for the components of the melodic_FTmix file\n",
    "    \"\"\"\n",
    "    assert ftmix.ndim == 2\n",
    "    assert 0.5 < t_r < 10\n",
    "\n",
    "    sample_frequency = 1 / t_r\n",
    "    nyquist = sample_frequency / 2\n",
    "\n",
    "    # Determine which frequencies are associated with every row in the melodic_FTmix file\n",
    "    # (assuming the rows range from 0Hz to Nyquist)\n",
    "    # TODO: RHD: How many rows? Off by one? is the first row 0Hz or nyquist/n and the last (n-1)/n * nyquist or nyquist?\n",
    "    frequencies = nyquist * (np.arange(ftmix.shape[0]) + 1) / ftmix.shape[0]\n",
    "\n",
    "    # Include only frequencies above 0.01 Hz\n",
    "    ftmix = ftmix[frequencies > 0.01, :]\n",
    "    frequencies = frequencies[frequencies > 0.01]\n",
    "\n",
    "    # Set frequency range to [0, 1]\n",
    "    normalised_frequencies = (frequencies - 0.01) / (nyquist - 0.01)\n",
    "\n",
    "    # For every IC; get the cumulative sum as a fraction of the total sum\n",
    "    fcumsum_fraction = np.cumsum(ftmix, axis=0) / np.sum(ftmix, axis=0)\n",
    "\n",
    "    # Determine the index of the frequency with the fractional cumulative sum closest to 0.5\n",
    "    index_cutoff = np.argmin((fcumsum_fraction - 0.5)**2, axis=0)\n",
    "\n",
    "    # Now get the fractions associated with those indices index, these are the final feature scores\n",
    "    hfc = normalised_frequencies[index_cutoff]\n",
    "\n",
    "    # Return 'High-frequency content' feature score\n",
    "    return hfc"
   ]
  },
  {
   "cell_type": "code",
   "execution_count": 5,
   "metadata": {
    "collapsed": false
   },
   "outputs": [],
   "source": [
    "hfc = feature_frequency(ftmix=np.loadtxt(ftmix), t_r=TR)\n",
    "assert np.allclose(hfc, hfc_orig)"
   ]
  },
  {
   "cell_type": "code",
   "execution_count": 6,
   "metadata": {
    "collapsed": false
   },
   "outputs": [
    {
     "name": "stdout",
     "output_type": "stream",
     "text": [
      "100 loops, best of 3: 6.22 ms per loop\n",
      "100 loops, best of 3: 5.71 ms per loop\n"
     ]
    }
   ],
   "source": [
    "%timeit feature_frequency_orig(melFTmix=ftmix, TR=TR)\n",
    "%timeit feature_frequency(ftmix=np.loadtxt(ftmix), t_r=TR)"
   ]
  },
  {
   "cell_type": "markdown",
   "metadata": {},
   "source": [
    "No real difference in timing, but that's to be expected - the changes here are only cosmetic. The contribution to the profiled time is pretty small here as well."
   ]
  }
 ],
 "metadata": {
  "anaconda-cloud": {},
  "kernelspec": {
   "display_name": "Python [default]",
   "language": "python",
   "name": "python3"
  },
  "language_info": {
   "codemirror_mode": {
    "name": "ipython",
    "version": 3
   },
   "file_extension": ".py",
   "mimetype": "text/x-python",
   "name": "python",
   "nbconvert_exporter": "python",
   "pygments_lexer": "ipython3",
   "version": "3.5.2"
  }
 },
 "nbformat": 4,
 "nbformat_minor": 0
}
