{
 "cells": [
  {
   "cell_type": "markdown",
   "metadata": {},
   "source": [
    "Access relevant field of nifti header with and without nibabel."
   ]
  },
  {
   "cell_type": "code",
   "execution_count": 1,
   "metadata": {
    "collapsed": true
   },
   "outputs": [],
   "source": [
    "from __future__ import division, print_function\n",
    "import numpy as np\n",
    "import os\n",
    "from subprocess import check_output\n",
    "from os.path import join"
   ]
  },
  {
   "cell_type": "code",
   "execution_count": 2,
   "metadata": {
    "collapsed": true
   },
   "outputs": [],
   "source": [
    "FSLBINDIR = join(os.environ.get(\"FSLDIR\", '/usr/share/fsl5.0'), 'bin')\n",
    "FSLINFO   = join(FSLBINDIR, 'fslinfo')"
   ]
  },
  {
   "cell_type": "code",
   "execution_count": 3,
   "metadata": {
    "collapsed": false
   },
   "outputs": [],
   "source": [
    "def nifti_info(filename, tag):\n",
    "    \"\"\"Extract value of tag from nifti header of file\"\"\"\n",
    "    info = check_output([FSLINFO, filename], universal_newlines=True)\n",
    "    fields = [line for line in info.split('\\n') if line.startswith(tag)][0].split()\n",
    "    return fields[-1]\n",
    "\n",
    "\n",
    "def nifti_dims_fsl(filename):\n",
    "    \"\"\"Matrix dimensions of image in nifti file\"\"\"\n",
    "    return tuple([int(float(nifti_info(filename, 'dim%d' % i))) for i in range(1, 5)])\n",
    "\n",
    "\n",
    "def nifti_pixdims_fsl(filename):\n",
    "    \"\"\"Pixel dimensions of image in nifti file\"\"\"\n",
    "    return tuple([float(nifti_info(filename, 'pixdim%d' % i)) for i in range(1, 5)])"
   ]
  },
  {
   "cell_type": "code",
   "execution_count": 4,
   "metadata": {
    "collapsed": false
   },
   "outputs": [
    {
     "name": "stdout",
     "output_type": "stream",
     "text": [
      "(64, 64, 34, 180) (3.0, 3.0, 3.5, 2.0)\n"
     ]
    }
   ],
   "source": [
    "NIIFILE = '../test/refin/filtered_func_data.nii.gz'\n",
    "dims_fsl = nifti_dims_fsl(NIIFILE)\n",
    "pixdims_fsl = nifti_pixdims_fsl(NIIFILE)\n",
    "print(dims_fsl, pixdims_fsl)"
   ]
  },
  {
   "cell_type": "code",
   "execution_count": 5,
   "metadata": {
    "collapsed": true
   },
   "outputs": [],
   "source": [
    "import nibabel as nib\n",
    "\n",
    "def nifti_dims_nibabel(filename):\n",
    "    \"\"\"Matrix dimensions of image in nifti file\"\"\"\n",
    "    return tuple(nib.load(filename).header['dim'][1:5])\n",
    "\n",
    "def nifti_pixdims_nibabel(filename):\n",
    "    \"\"\"Pixel dimensions of image in nifti file\"\"\"\n",
    "    return tuple(nib.load(filename).header['pixdim'][1:5])"
   ]
  },
  {
   "cell_type": "code",
   "execution_count": 6,
   "metadata": {
    "collapsed": false
   },
   "outputs": [
    {
     "name": "stdout",
     "output_type": "stream",
     "text": [
      "(64, 64, 34, 180) (3.0, 3.0, 3.5, 2.0)\n"
     ]
    }
   ],
   "source": [
    "dims_nibabel = nifti_dims_nibabel(NIIFILE)\n",
    "pixdims_nibabel = nifti_pixdims_nibabel(NIIFILE)\n",
    "print(dims_nibabel, pixdims_nibabel)"
   ]
  },
  {
   "cell_type": "code",
   "execution_count": 7,
   "metadata": {
    "collapsed": false
   },
   "outputs": [],
   "source": [
    "assert dims_nibabel == dims_fsl\n",
    "assert pixdims_nibabel == pixdims_fsl"
   ]
  },
  {
   "cell_type": "code",
   "execution_count": 8,
   "metadata": {
    "collapsed": false
   },
   "outputs": [
    {
     "name": "stdout",
     "output_type": "stream",
     "text": [
      "10 loops, best of 3: 37.8 ms per loop\n",
      "1000 loops, best of 3: 908 µs per loop\n"
     ]
    }
   ],
   "source": [
    "%timeit nifti_pixdims_fsl(NIIFILE)\n",
    "%timeit nifti_pixdims_nibabel(NIIFILE)"
   ]
  },
  {
   "cell_type": "markdown",
   "metadata": {
    "collapsed": true
   },
   "source": [
    "About an order of magnitude improvement using `nibabel` over `fslinfo`. The time is probably not that significant though."
   ]
  }
 ],
 "metadata": {
  "anaconda-cloud": {},
  "kernelspec": {
   "display_name": "Python [default]",
   "language": "python",
   "name": "python3"
  },
  "language_info": {
   "codemirror_mode": {
    "name": "ipython",
    "version": 3
   },
   "file_extension": ".py",
   "mimetype": "text/x-python",
   "name": "python",
   "nbconvert_exporter": "python",
   "pygments_lexer": "ipython3",
   "version": "3.5.2"
  }
 },
 "nbformat": 4,
 "nbformat_minor": 0
}
