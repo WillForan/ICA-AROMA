{
 "cells": [
  {
   "cell_type": "markdown",
   "metadata": {},
   "source": [
    "# A numpy based version of fsl_regfilt\n",
    "Fsl_regfilt as it stands seems to be very prone to memory exhaustion. In fact it's almost impossible to run it on a multiband aquisition even with about 32GBytes of memory available. This suggests that it is very wasteful of memory so we'll investigate replacing it with an internal numpy based routine."
   ]
  },
  {
   "cell_type": "code",
   "execution_count": 1,
   "metadata": {
    "collapsed": true
   },
   "outputs": [],
   "source": [
    "from __future__ import division, print_function\n",
    "\n",
    "import numpy as np\n",
    "from numpy.linalg import pinv\n",
    "from numpy import inner\n",
    "import nibabel as nib"
   ]
  },
  {
   "cell_type": "markdown",
   "metadata": {},
   "source": [
    "### Test files"
   ]
  },
  {
   "cell_type": "code",
   "execution_count": 2,
   "metadata": {
    "collapsed": true
   },
   "outputs": [],
   "source": [
    "infile = '../test/refin/filtered_func_data.nii.gz'\n",
    "mixfile = '../test/refout/melodic.ica/melodic_mix'\n",
    "compsfile = '../test/refout/classified_motion_ICs.txt'"
   ]
  },
  {
   "cell_type": "markdown",
   "metadata": {},
   "source": [
    "Input functional series is nii image. When read with nibabel it ends up arranged with time as the *last* index."
   ]
  },
  {
   "cell_type": "code",
   "execution_count": 3,
   "metadata": {
    "collapsed": false
   },
   "outputs": [
    {
     "name": "stdout",
     "output_type": "stream",
     "text": [
      "inputdata: (64, 64, 34, 180)\n"
     ]
    }
   ],
   "source": [
    "func = nib.load(infile).get_data()\n",
    "nx, ny, nz, nt = func.shape\n",
    "print('inputdata:', (nx, ny, nz, nt))"
   ]
  },
  {
   "cell_type": "markdown",
   "metadata": {},
   "source": [
    "The `fsl_regfilt.cc` code generates a mask to remove backgound voxels."
   ]
  },
  {
   "cell_type": "code",
   "execution_count": 4,
   "metadata": {
    "collapsed": false
   },
   "outputs": [
    {
     "name": "stdout",
     "output_type": "stream",
     "text": [
      "mask: (64, 64, 34)\n"
     ]
    }
   ],
   "source": [
    "mean = func.mean(axis=3)\n",
    "min_, max_ = mean.min(), mean.max()\n",
    "mask = mean > (min_ + (max_ - min_) / 100)\n",
    "\n",
    "nx, ny, nz = mask.shape\n",
    "nx, ny, nz\n",
    "print('mask:', (nx, ny, nz))"
   ]
  },
  {
   "cell_type": "markdown",
   "metadata": {},
   "source": [
    "The design matrix we read using `np.loadtxt()` and so it ends up in natural order with the *first* index."
   ]
  },
  {
   "cell_type": "code",
   "execution_count": 5,
   "metadata": {
    "collapsed": false
   },
   "outputs": [
    {
     "name": "stdout",
     "output_type": "stream",
     "text": [
      "design: (180, 45)\n"
     ]
    }
   ],
   "source": [
    "design = np.loadtxt(mixfile)\n",
    "nt, nc = design.shape\n",
    "print('design:', (nt, nc))"
   ]
  },
  {
   "cell_type": "markdown",
   "metadata": {},
   "source": [
    "The `fsl_regfilt.cc` code demeans both the functional data and the design matrix."
   ]
  },
  {
   "cell_type": "code",
   "execution_count": 6,
   "metadata": {
    "collapsed": false
   },
   "outputs": [
    {
     "data": {
      "text/plain": [
       "array([ 2.45676963,  2.48197556,  2.47422447,  2.39917987,  2.43036357,\n",
       "        2.474023  ,  2.42873942,  2.42801334,  2.35147706,  2.41762743,\n",
       "        2.43557958, -3.01345097, -2.69668958, -0.51803066,  2.46157663,\n",
       "        0.00791765, -2.21859052, -1.72946295, -0.4345678 , -0.91316749,\n",
       "       -0.64306629, -2.24611874,  0.35066195, -0.73477893, -1.22652366,\n",
       "       -0.76652087,  0.72942466, -2.67747858, -1.28081546, -0.70359945,\n",
       "        0.57911162,  1.13386126, -1.10040704,  2.44277085, -0.96658197,\n",
       "       -0.36108886,  2.4964741 ,  1.99229757, -0.85475222, -0.2094624 ,\n",
       "       -0.67309535,  0.84547878, -1.58407823, -1.54959604,  0.33945736])"
      ]
     },
     "execution_count": 6,
     "metadata": {},
     "output_type": "execute_result"
    }
   ],
   "source": [
    "mean_r = func.mean(axis=3)\n",
    "mean_c = design.mean(axis=0)\n",
    "\n",
    "design_demeaned = design - mean_c\n",
    "func_demeaned = func - mean_r[..., None]\n",
    "\n",
    "design_demeaned[0]"
   ]
  },
  {
   "cell_type": "markdown",
   "metadata": {},
   "source": [
    "The components are just indices of columns in the design matrix. The list is stored (with offset 1) in a text file,\n",
    "which we can read with `loadtxt()`."
   ]
  },
  {
   "cell_type": "code",
   "execution_count": 7,
   "metadata": {
    "collapsed": false
   },
   "outputs": [
    {
     "data": {
      "text/plain": [
       "[10, 11, 12, 13, 14, 15, 16, 18, 19, 20, 23, 25, 26, 35, 37, 38, 39, 42, 43]"
      ]
     },
     "execution_count": 7,
     "metadata": {},
     "output_type": "execute_result"
    }
   ],
   "source": [
    "components = list(np.loadtxt(compsfile, dtype=int, delimiter=',') - 1) \n",
    "components"
   ]
  },
  {
   "cell_type": "markdown",
   "metadata": {},
   "source": [
    "The actual filtering appears to be performed by the following code (slightly simplified from original):\n",
    "```c\n",
    "    Matrix unmixMatrix = pinv(design);\n",
    "    Matrix maps = unmixMatrix * data;\n",
    "\n",
    "    Matrix noisedes = design.Column(comps.at(0));\n",
    "    Matrix noisemaps = maps.Row(comps.at(0)).t();    \n",
    "\n",
    "    for(int ctr = 1; ctr < (int)comps.size(); ++ctr) {\n",
    "        noisedes  |= design.Column(comps.at(ctr));\n",
    "        noisemaps |= maps.Row(comps.at(ctr)).t();\n",
    "    }\n",
    "\n",
    "    if(aggressive.value())\n",
    "        newData = data - noisedes * (pinv(noisedes)*data);\n",
    "    else\n",
    "        newData = data - noisedes * noisemaps.t();\n",
    "        \n",
    "    newData = newData + ones(newData.Nrows(), 1) * meanR;\n",
    "```\n",
    "\n",
    "The `|=` operator seems to have been overloaded to perform horizontal contatenation (ugh)."
   ]
  },
  {
   "cell_type": "code",
   "execution_count": 8,
   "metadata": {
    "collapsed": false
   },
   "outputs": [
    {
     "name": "stdout",
     "output_type": "stream",
     "text": [
      "unmix: (45, 180)\n",
      "maps: (45, 64, 64, 34)\n"
     ]
    }
   ],
   "source": [
    "unmix = pinv(design_demeaned)\n",
    "print('unmix:', unmix.shape)\n",
    "\n",
    "maps = inner(unmix, func_demeaned)\n",
    "nc, nx, ny, nz = maps.shape\n",
    "print('maps:', (nc, nx, ny, nz))"
   ]
  },
  {
   "cell_type": "code",
   "execution_count": 9,
   "metadata": {
    "collapsed": false
   },
   "outputs": [
    {
     "name": "stdout",
     "output_type": "stream",
     "text": [
      "noisedes: (180, 19)\n",
      "noisemaps: (19, 64, 64, 34)\n"
     ]
    }
   ],
   "source": [
    "noisedes = design[:, components]\n",
    "print('noisedes:', noisedes.shape)\n",
    "\n",
    "noisemaps = maps[components]\n",
    "print('noisemaps:', noisemaps.shape)"
   ]
  },
  {
   "cell_type": "code",
   "execution_count": 10,
   "metadata": {
    "collapsed": true
   },
   "outputs": [],
   "source": [
    "new_data_nagg = func_demeaned - inner(noisedes, noisemaps.T).T\n",
    "new_data_agg  = func_demeaned - inner(noisedes, inner(pinv(noisedes), func_demeaned).T).T\n",
    "\n",
    "new_data_nagg += mean_r[..., None]\n",
    "new_data_agg += mean_r[..., None]"
   ]
  },
  {
   "cell_type": "code",
   "execution_count": 11,
   "metadata": {
    "collapsed": false
   },
   "outputs": [],
   "source": [
    "data = nib.load(infile).get_data()\n",
    "design = design = np.loadtxt(mixfile)\n",
    "components = list(np.loadtxt(compsfile, dtype=int, delimiter=',') - 1) \n",
    "\n",
    "design = design - design.mean(axis=0)\n",
    "nx, ny, nz, nt = data.shape\n",
    "data = data.reshape((-1, nt))\n",
    "data_m = data.mean(axis=1)\n",
    "data = data - data_m[:, None]\n",
    "unmix = pinv(design)\n",
    "maps = inner(unmix, data)\n",
    "noisedes = design[:, components]\n",
    "noisemaps = maps[components]\n",
    "noisedes.shape\n",
    "\n",
    "new_data_nagg = data - inner(noisedes, noisemaps.T).T\n",
    "new_data_agg  = data - inner(noisedes, inner(pinv(noisedes), data).T).T\n",
    "\n",
    "new_data_nagg += data_m[..., None]\n",
    "new_data_agg += data_m[..., None]\n",
    "\n",
    "filtered_data = data.reshape((nx, ny, nz, nt))"
   ]
  },
  {
   "cell_type": "markdown",
   "metadata": {},
   "source": [
    "The design matrix is C-contiguous (times, components) as it is read in with `loadtxt()` but the functional data is fortran-contiguous (nx, ny, nz, times). We could transpose the data and collapse the spatial dimensions.  \n",
    "\n",
    "Then we'd have (nt, nc) and (nt, np). When we take the `pinv()` we get unmix shape of (nc, nt). Ordinary matrix multiplication should work fine then, simplifiying things somewhat."
   ]
  },
  {
   "cell_type": "code",
   "execution_count": 12,
   "metadata": {
    "collapsed": true
   },
   "outputs": [],
   "source": [
    "def ica_filter(data, design, components, aggressive=False, mask=True):\n",
    "    \"\"\"Filter functional data by regressing out noise components.\n",
    "       expects c-contig arrays in natural numpy index ordering\n",
    "       data: (nt, nz, ny, nz), design: (nt, nc).\n",
    "       Components is a list of indices (columns) in design.\n",
    "       We flatten the spatial dimensions of functional data so we\n",
    "       can treat it as an ordinary matrix.\n",
    "    \"\"\"\n",
    "\n",
    "    nt, nz, ny, nx = data.shape\n",
    "    ntd, nc = design.shape\n",
    "    assert ntd == nt\n",
    "    assert data.flags['C_CONTIGUOUS']\n",
    "    assert len(components) > 0\n",
    "    assert 0 <= max(components) < nc \n",
    "\n",
    "    # mask out background voxels at less then 1%\n",
    "    if mask:\n",
    "        mean_image = data.mean(axis=0)\n",
    "        min_, max_ = mean_image.min(), mean_image.max()\n",
    "        mask = mean_image > (min_ + (max_ - min_) / 100)\n",
    "        data *= mask[None, :]\n",
    "\n",
    "    # flatten image volumes for ease of manipulation\n",
    "    data = data.reshape((nt, -1))\n",
    "    \n",
    "    # de-mean data and model\n",
    "    data_means = data.mean(axis=0)\n",
    "    data = data - data_means\n",
    "    design = design - design.mean(axis=0)\n",
    "\n",
    "    # noise components of design\n",
    "    noise_design = design[:, components]\n",
    "\n",
    "    if aggressive:\n",
    "        maps = pinv(noise_design).dot(data)\n",
    "    else:\n",
    "        maps = pinv(design).dot(data)[components]\n",
    "\n",
    "    filtered_data = data - noise_design.dot(maps) + data_means\n",
    "\n",
    "    # restore shape of image\n",
    "    return filtered_data.reshape((nt, nz, ny, nx))"
   ]
  },
  {
   "cell_type": "markdown",
   "metadata": {},
   "source": [
    "Try running directly..."
   ]
  },
  {
   "cell_type": "code",
   "execution_count": 13,
   "metadata": {
    "collapsed": false
   },
   "outputs": [],
   "source": [
    "data = nib.load(infile).get_data()\n",
    "design = np.loadtxt(mixfile)\n",
    "components = list(np.loadtxt(compsfile, dtype=int, delimiter=',') - 1)\n",
    "filtered_data = ica_filter(data.T, design, components).T"
   ]
  },
  {
   "cell_type": "markdown",
   "metadata": {},
   "source": [
    "Wrap up in a function to compare with original using `fsl_regfilt`"
   ]
  },
  {
   "cell_type": "code",
   "execution_count": 14,
   "metadata": {
    "collapsed": false
   },
   "outputs": [],
   "source": [
    "def denoising_numpy(infile, outfile, mix, denoise_indices, aggressive=False):\n",
    "    nii = nib.load(infile)\n",
    "    data = nii.get_data().T\n",
    "    # a bit icky but seems to be the standard way to write data back to a nifti image\n",
    "    nii.get_data()[:] = ica_filter(data, design=mix, components=denoise_indices, aggressive=aggressive).T\n",
    "    nib.save(nii, outfile)\n",
    "\n",
    "    \n",
    "FSLREGFILT = '/usr/local/fsl/bin/fsl_regfilt'\n",
    "from tempfile import mkstemp\n",
    "from subprocess import call\n",
    "import os\n",
    "def denoising_fsl(infile, outfile, mix, denoise_indices, aggressive=False):\n",
    "    fd, melmix_file = mkstemp(prefix='denoising', suffix='.txt')\n",
    "    np.savetxt(melmix_file, mix)\n",
    "\n",
    "    index_list = ','.join(['%d' % (i+1) for i in denoise_indices])\n",
    "    regfilt_args = [\n",
    "        '--in=' + infile, '--design=' + melmix_file,\n",
    "        '--filter=%s' % index_list,\n",
    "        '--out=' + outfile\n",
    "    ]\n",
    "    if aggressive:\n",
    "        regfilt_args.append('-a')\n",
    "    call([FSLREGFILT] + regfilt_args)\n",
    "\n",
    "    os.unlink(melmix_file)\n",
    "    os.close(fd)"
   ]
  },
  {
   "cell_type": "markdown",
   "metadata": {},
   "source": [
    "Compare numpy version with original `fsl_regfilt`, aggressive and nonaggressive versions."
   ]
  },
  {
   "cell_type": "code",
   "execution_count": 15,
   "metadata": {
    "collapsed": false
   },
   "outputs": [],
   "source": [
    "denoising_fsl(infile, outfile='filtered_fsl.nii.gz', mix=np.loadtxt(mixfile), denoise_indices=components)\n",
    "denoising_numpy(infile, outfile='filtered_numpy.nii.gz', mix=np.loadtxt(mixfile), denoise_indices=components)\n",
    "\n",
    "res_fsl = nib.load('filtered_fsl.nii.gz').get_data()\n",
    "res_numpy = nib.load('filtered_numpy.nii.gz').get_data()\n",
    "\n",
    "assert np.allclose(res_fsl, res_numpy, rtol=1e-06, atol=1e-03)\n",
    "\n",
    "denoising_fsl(infile, outfile='filtered_agg_fsl.nii.gz', mix=np.loadtxt(mixfile), denoise_indices=components, aggressive=True)\n",
    "denoising_numpy(infile, outfile='filtered_agg_numpy.nii.gz', mix=np.loadtxt(mixfile), denoise_indices=components, aggressive=True)\n",
    "\n",
    "res_fsl = nib.load('filtered_agg_fsl.nii.gz').get_data()\n",
    "res_numpy = nib.load('filtered_agg_numpy.nii.gz').get_data()\n",
    "\n",
    "assert np.allclose(res_fsl, res_numpy, rtol=1e-06, atol=1e-03)\n"
   ]
  },
  {
   "cell_type": "markdown",
   "metadata": {},
   "source": [
    "Timings..."
   ]
  },
  {
   "cell_type": "code",
   "execution_count": 16,
   "metadata": {
    "collapsed": false
   },
   "outputs": [
    {
     "name": "stdout",
     "output_type": "stream",
     "text": [
      "1 loop, best of 3: 14.2 s per loop\n"
     ]
    }
   ],
   "source": [
    "%%timeit\n",
    "denoising_fsl(infile, outfile='filtered_fsl.nii.gz', mix=np.loadtxt(mixfile), denoise_indices=components)"
   ]
  },
  {
   "cell_type": "code",
   "execution_count": 17,
   "metadata": {
    "collapsed": false
   },
   "outputs": [
    {
     "name": "stdout",
     "output_type": "stream",
     "text": [
      "1 loop, best of 3: 7.24 s per loop\n"
     ]
    }
   ],
   "source": [
    "%%timeit\n",
    "denoising_numpy(infile, outfile='filtered_numpy.nii.gz', mix=np.loadtxt(mixfile), denoise_indices=components)"
   ]
  },
  {
   "cell_type": "markdown",
   "metadata": {},
   "source": [
    "Looks like we get a factor two or three. We should still check the memory usage as this becomes a problem with a large number of components. We probably don't gain anything here by using numpy - the problem is the very large matrix multiplication. We'll probably need to find some out of core / batched way of doing the multiplication. For very large datasets eg from multiband acquisitions we may have problems fitting even the original data set into memory."
   ]
  },
  {
   "cell_type": "code",
   "execution_count": 18,
   "metadata": {
    "collapsed": true
   },
   "outputs": [],
   "source": [
    "!rm -f filtered_*fsl.nii.gz filtered_*numpy.nii.gz"
   ]
  }
 ],
 "metadata": {
  "anaconda-cloud": {},
  "kernelspec": {
   "display_name": "Python [default]",
   "language": "python",
   "name": "python3"
  },
  "language_info": {
   "codemirror_mode": {
    "name": "ipython",
    "version": 3
   },
   "file_extension": ".py",
   "mimetype": "text/x-python",
   "name": "python",
   "nbconvert_exporter": "python",
   "pygments_lexer": "ipython3",
   "version": "3.5.2"
  }
 },
 "nbformat": 4,
 "nbformat_minor": 0
}
